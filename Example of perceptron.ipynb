{
 "cells": [
  {
   "cell_type": "code",
   "execution_count": 4,
   "metadata": {},
   "outputs": [],
   "source": [
    "import tensorflow as tf"
   ]
  },
  {
   "cell_type": "code",
   "execution_count": 24,
   "metadata": {},
   "outputs": [],
   "source": [
    "x = tf.constant(3.0)"
   ]
  },
  {
   "cell_type": "code",
   "execution_count": 25,
   "metadata": {},
   "outputs": [],
   "source": [
    "y = tf.constant(6.0)"
   ]
  },
  {
   "cell_type": "code",
   "execution_count": 26,
   "metadata": {},
   "outputs": [],
   "source": [
    "w = tf.Variable(20.0)"
   ]
  },
  {
   "cell_type": "code",
   "execution_count": 28,
   "metadata": {},
   "outputs": [
    {
     "name": "stdout",
     "output_type": "stream",
     "text": [
      "weight :  17.0 descent :  3.0 loss :  54.0\n",
      "weight :  14.0 descent :  3.0 loss :  45.0\n",
      "weight :  11.0 descent :  3.0 loss :  36.0\n",
      "weight :  8.0 descent :  3.0 loss :  27.0\n",
      "weight :  5.0 descent :  3.0 loss :  18.0\n",
      "weight :  2.0 descent :  3.0 loss :  9.0\n",
      "weight :  2.0 descent :  0.0 loss :  0.0\n"
     ]
    }
   ],
   "source": [
    "\n",
    "while True :\n",
    "    with tf.GradientTape() as tape :\n",
    "        loss = tf.math.abs( w * x - y )\n",
    "    # here dx is new descent \n",
    "    #gradient function is used for optimizer gradient descent\n",
    "        dx = tape.gradient(loss , w)\n",
    "        w.assign(w-dx)\n",
    "\n",
    "        print (\"weight : \", w.numpy(),\"descent : \", dx.numpy(),\"loss : \", loss.numpy())\n",
    "        if dx.numpy() == 0.0:\n",
    "            break\n"
   ]
  }
 ],
 "metadata": {
  "kernelspec": {
   "display_name": "Python 3",
   "language": "python",
   "name": "python3"
  },
  "language_info": {
   "codemirror_mode": {
    "name": "ipython",
    "version": 3
   },
   "file_extension": ".py",
   "mimetype": "text/x-python",
   "name": "python",
   "nbconvert_exporter": "python",
   "pygments_lexer": "ipython3",
   "version": "3.7.7"
  }
 },
 "nbformat": 4,
 "nbformat_minor": 4
}
